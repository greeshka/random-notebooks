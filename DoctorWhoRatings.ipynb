{
 "cells": [
  {
   "cell_type": "code",
   "execution_count": 1,
   "metadata": {},
   "outputs": [],
   "source": [
    "import pandas as pd\n",
    "import wikipedia as wp\n",
    "import numpy as np"
   ]
  },
  {
   "cell_type": "code",
   "execution_count": 2,
   "metadata": {},
   "outputs": [],
   "source": [
    "import plotly.express as px\n",
    "import plotly.io as pio\n",
    "pio.templates.default = 'plotly_white'\n",
    "import plotly.graph_objects as go"
   ]
  },
  {
   "cell_type": "code",
   "execution_count": 3,
   "metadata": {},
   "outputs": [],
   "source": [
    "html = wp.page('List of Doctor Who episodes (2005–present)').html().encode('cp1252')"
   ]
  },
  {
   "cell_type": "code",
   "execution_count": 4,
   "metadata": {},
   "outputs": [],
   "source": [
    "tables = pd.read_html(html)"
   ]
  },
  {
   "cell_type": "code",
   "execution_count": 5,
   "metadata": {},
   "outputs": [],
   "source": [
    "table_num_doctor = pd.DataFrame([[3, str(9)]] + \n",
    "                                [[i, str(10)] for i in range(4, 8)] + \n",
    "                                [[i, str(11)] for i in range(8, 12)] + \n",
    "                                [[i, str(12)] for i in range(12, 15)] + \n",
    "                                [[i, str(13)] for i in range(15, 17)], columns=['table_num', 'Doctor'])"
   ]
  },
  {
   "cell_type": "markdown",
   "metadata": {},
   "source": [
    "## Нужны таблицы начиная с 3 по 15"
   ]
  },
  {
   "cell_type": "code",
   "execution_count": 6,
   "metadata": {},
   "outputs": [],
   "source": [
    "for i in range(3, 17):\n",
    "    tables[i]['table_num'] = i\n",
    "    tables[i] = tables[i].merge(table_num_doctor, on=['table_num'])"
   ]
  },
  {
   "cell_type": "code",
   "execution_count": 7,
   "metadata": {},
   "outputs": [],
   "source": [
    "df_all_episodes_raw = pd.concat([\n",
    "    tables[i][['Story', 'Episode', 'Title', 'Directed by', \n",
    "               'Written by','Original air date', 'UK viewers(millions) [8]', \n",
    "               'AI [8]', 'Doctor']] for i in range(3, 16)])"
   ]
  },
  {
   "cell_type": "code",
   "execution_count": 8,
   "metadata": {},
   "outputs": [],
   "source": [
    "df_all_episodes_raw = pd.concat([df_all_episodes_raw, \n",
    "           tables[16].rename(\n",
    "               columns={'No.story': 'Story', 'No. inseries': 'Episode'})[['Story', 'Episode', 'Title', 'Directed by', \n",
    "               'Written by','Original air date', 'UK viewers(millions) [8]', \n",
    "               'AI [8]', 'Doctor']]], sort=True)"
   ]
  },
  {
   "cell_type": "code",
   "execution_count": 9,
   "metadata": {},
   "outputs": [],
   "source": [
    "df_all_episodes_raw.rename(columns={'UK viewers(millions) [8]': 'UK viewers(millions)', 'AI [8]': 'AI'}, inplace=True)"
   ]
  },
  {
   "cell_type": "code",
   "execution_count": 10,
   "metadata": {},
   "outputs": [],
   "source": [
    "df_all_episodes_raw.reset_index(inplace=True)"
   ]
  },
  {
   "cell_type": "code",
   "execution_count": 11,
   "metadata": {},
   "outputs": [],
   "source": [
    "df_all_episodes_raw['Story'] = df_all_episodes_raw['Story'].astype(str)"
   ]
  },
  {
   "cell_type": "code",
   "execution_count": 12,
   "metadata": {},
   "outputs": [],
   "source": [
    "df_clean = df_all_episodes_raw[df_all_episodes_raw['Story'].str.startswith(\n",
    "    tuple(str(i) for i in range(10))).fillna(True)][[\n",
    "    'Story', 'Episode', 'Title', 'Directed by', 'Written by',\n",
    "       'Original air date', 'UK viewers(millions)', 'AI', 'Doctor']]"
   ]
  },
  {
   "cell_type": "code",
   "execution_count": 13,
   "metadata": {},
   "outputs": [],
   "source": [
    "df_clean = df_clean[df_clean['AI'] != 'TBD'].copy()"
   ]
  },
  {
   "cell_type": "code",
   "execution_count": 14,
   "metadata": {},
   "outputs": [],
   "source": [
    "for column in ('UK viewers(millions)', 'AI'):\n",
    "    df_clean[column] = df_clean[column].astype(float)"
   ]
  },
  {
   "cell_type": "markdown",
   "metadata": {},
   "source": [
    "## Можно попробовать разделить чуваков с & на разных"
   ]
  },
  {
   "cell_type": "code",
   "execution_count": 15,
   "metadata": {},
   "outputs": [],
   "source": [
    "df_clean.rename(columns={'AI': 'Appreciation Index'}, inplace=True)"
   ]
  },
  {
   "cell_type": "code",
   "execution_count": 17,
   "metadata": {},
   "outputs": [],
   "source": [
    "# px.scatter(df_clean, x='Original air date', y='Appreciation Index', color='Doctor')"
   ]
  },
  {
   "cell_type": "markdown",
   "metadata": {},
   "source": [
    "<img src=\"DoctorWhoRatings_data/plotly_screenshot.png\" width=\"1000\" />"
   ]
  },
  {
   "cell_type": "code",
   "execution_count": null,
   "metadata": {},
   "outputs": [],
   "source": []
  }
 ],
 "metadata": {
  "kernelspec": {
   "display_name": "Python 3",
   "language": "python",
   "name": "python3"
  },
  "language_info": {
   "codemirror_mode": {
    "name": "ipython",
    "version": 3
   },
   "file_extension": ".py",
   "mimetype": "text/x-python",
   "name": "python",
   "nbconvert_exporter": "python",
   "pygments_lexer": "ipython3",
   "version": "3.6.9"
  }
 },
 "nbformat": 4,
 "nbformat_minor": 2
}
