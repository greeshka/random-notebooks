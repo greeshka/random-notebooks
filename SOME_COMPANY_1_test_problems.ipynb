{
 "cells": [
  {
   "cell_type": "code",
   "execution_count": 1,
   "metadata": {},
   "outputs": [],
   "source": [
    "import pandas as pd\n",
    "import numpy as np\n",
    "import matplotlib.pyplot as plt\n",
    "from scipy.stats import norm, normaltest, t, chisquare\n",
    "from math import sqrt\n",
    "from statsmodels.tsa.stattools import adfuller"
   ]
  },
  {
   "cell_type": "code",
   "execution_count": 2,
   "metadata": {},
   "outputs": [],
   "source": [
    "%matplotlib inline"
   ]
  },
  {
   "cell_type": "markdown",
   "metadata": {},
   "source": [
    "# Теоритическая часть"
   ]
  },
  {
   "cell_type": "markdown",
   "metadata": {},
   "source": [
    "### 3.1 Три стрелка, попадающих в мишень с вероятностями 0.3, 0.8 и 0.9 независимо друг от друга, делают по одному выстрелу по мишени. Найти вероятность того, что в мишень попадут ровно две пули."
   ]
  },
  {
   "cell_type": "markdown",
   "metadata": {},
   "source": [
    "Вероятность того, что независимые события произойдут одновременно равна произведению вероятностей этих событий. У нас есть три варианта, какие два стрелка могут попасть: 1 и 2, 1 и 3, 2 и 3, соответствнно в каждом из этих вариантов оставшийся стрелок должен промахнуться. Тогда вероятность попадания ровно двух пуль равна $0.3 \\cdot 0.8 \\cdot (1 - 0.9) + 0.3 \\cdot (1 - 0.8) \\cdot 0.9 + (1 - 0.3) \\cdot 0.8 \\cdot 0.9 = 0.582$ "
   ]
  },
  {
   "cell_type": "code",
   "execution_count": 3,
   "metadata": {},
   "outputs": [
    {
     "data": {
      "text/plain": [
       "0.582"
      ]
     },
     "execution_count": 3,
     "metadata": {},
     "output_type": "execute_result"
    }
   ],
   "source": [
    "eval('0.3 \\cdot 0.8 \\cdot (1 - 0.9) + 0.3 \\cdot (1 - 0.8) \\cdot 0.9 + (1 - 0.3) \\cdot 0.8 \\cdot 0.9'.replace('\\cdot', '*'))"
   ]
  },
  {
   "cell_type": "markdown",
   "metadata": {},
   "source": [
    "### 3.2 Точка наудачу бросается в круг с радиусом R. Найти функцию распределения расстояния от этой точки до центра круга."
   ]
  },
  {
   "cell_type": "markdown",
   "metadata": {},
   "source": [
    "Хотим найти $F(t) = P(x \\leq t)$, где х - расстояние от случайной точки до круга. Считаем, что случайная величина равномерно распределена внутри круга. Если расстояние $\\leq t$ значит точка попала в круг с радиусом $t$. Для $t \\in [0, R]$ Вероятность этого в силу равномерности равна отношению площади круга ко всему, то есть $F(t) = \\frac{t^2}{R^2}$. Для $t<0$ $F(t) = 0$, для $t > R$ $F(t) = 1$."
   ]
  },
  {
   "cell_type": "markdown",
   "metadata": {},
   "source": [
    "### 3.3 Найти доверительный интервал для оценки математического ожидания a нормального распределения с надежностью $0.95$, зная выборочную среднюю $=75.12$, объем выборки $n=121$ и среднее квадратическое отклонение $\\sigma=11$."
   ]
  },
  {
   "cell_type": "markdown",
   "metadata": {},
   "source": [
    "По ЦПТ знаем, что: \n",
    "$$\\sqrt{n}\\frac{\\overline{X_n} - \\mu}{\\sigma} \\sim N(0, 1)$$\n",
    "Возьмем квантили $N(0, 1)$: $z_{0.025} = -1.96$ и $z_{0.975} = 1.96$. Тогда с вероятностью 0.95:\n",
    "$$ \\overline{X_n} - 1.96 \\frac{\\sigma}{\\sqrt{n}} \\leq \\mu  \\leq \\overline{X_n} + 1.96 \\frac{\\sigma}{\\sqrt{n}}$$"
   ]
  },
  {
   "cell_type": "code",
   "execution_count": 4,
   "metadata": {},
   "outputs": [
    {
     "name": "stdout",
     "output_type": "stream",
     "text": [
      "Доверительный интервал для среднего: (73.16000000000001, 77.08)\n"
     ]
    }
   ],
   "source": [
    "X_n = 75.12\n",
    "z = 1.96\n",
    "sigma = 11\n",
    "n = 121\n",
    "print(f'Доверительный интервал для среднего: ({X_n - z * sigma / (n ** (1/2))}, {X_n + z * sigma / (n ** (1/2))})')"
   ]
  },
  {
   "cell_type": "markdown",
   "metadata": {},
   "source": [
    "# Практическая часть"
   ]
  },
  {
   "cell_type": "markdown",
   "metadata": {},
   "source": [
    "В качестве акций гугла я взял GOOGL."
   ]
  },
  {
   "cell_type": "code",
   "execution_count": 5,
   "metadata": {},
   "outputs": [],
   "source": [
    "df_apple = pd.read_csv('SOME_COMPANY_1_data/daily_AAPL.csv', sep=',')\n",
    "df_google = pd.read_csv('SOME_COMPANY_1_data/daily_GOOGL.csv', sep=',')\n",
    "df_fb = pd.read_csv('SOME_COMPANY_1_data/daily_FB.csv', sep=',')"
   ]
  },
  {
   "cell_type": "code",
   "execution_count": 6,
   "metadata": {},
   "outputs": [],
   "source": [
    "def get_returns_from_df(df):\n",
    "    return df.sort_values(by='timestamp')['close'].diff().dropna()"
   ]
  },
  {
   "cell_type": "code",
   "execution_count": 7,
   "metadata": {},
   "outputs": [],
   "source": [
    "df_apple_returns, df_google_returns, df_fb_returns = list(map(get_returns_from_df, (df_apple, df_google, df_fb)))"
   ]
  },
  {
   "cell_type": "markdown",
   "metadata": {},
   "source": [
    "В функции ниже я строю гистограмму исходного распределения, отсекая выброы, после чего высчитываю выборочные средние и дисперсию. Заменяю выборочную дисперсию на несмещённую и строю различные распределения такого же размера выборки с такими же средними и дисперсией. Для t-распределения я сначала высчитываю количество степеней свободы по дипсперсии. Также провожу тест на нормальность и хи-квадрат тест на соответствие t-распределению. "
   ]
  },
  {
   "cell_type": "markdown",
   "metadata": {},
   "source": [
    "$$ \\text{Var} = \\frac{\\nu}{\\nu - 2}\\implies \\nu = \\frac{2}{1 - \\frac{1}{\\text{Var}}}$$"
   ]
  },
  {
   "cell_type": "markdown",
   "metadata": {},
   "source": [
    "Для того, чтобы высчитать частоту в t-распределении я беру для данного интервала разность CDF."
   ]
  },
  {
   "cell_type": "code",
   "execution_count": 8,
   "metadata": {},
   "outputs": [],
   "source": [
    "def show_returns_hist(df):\n",
    "    fig, axes = plt.subplots(3, 1, figsize = (8, 6))\n",
    "    df_foo = df[df.between(df.quantile(q=0.001), df.quantile(q=0.999))]\n",
    "    axes[0].hist(x=df_foo.values, bins=500)\n",
    "#     plt.xlim(df.quantile(q=0.001), df.quantile(q=0.999))\n",
    "    \n",
    "    distr_mean = np.mean(df_foo)\n",
    "    distr_std = sqrt(np.var(df_foo) / (df_foo.shape[0] - 1) * df_foo.shape[0])\n",
    "    \n",
    "    x = np.linspace(df_foo.min(), df_foo.max(), 1000)\n",
    "    axes[1].hist(\n",
    "        x=np.random.normal(size=df_foo.shape[0], loc=distr_mean, scale=distr_std), \n",
    "        bins=500, range=(df_foo.min(), df_foo.max()))\n",
    "    \n",
    "    nu = 2 / (1 - (1 / distr_std ** 2))\n",
    "    \n",
    "    axes[2].hist(x=t.rvs(loc=distr_mean, df=nu, size=df_foo.shape[0]), bins=500, range=(df_foo.min(), df_foo.max()))\n",
    "    \n",
    "    df_freq = (pd.qcut(df_foo, q=[(1/4) * i for i in range(5)]).value_counts() / df_foo.shape[0]).reset_index().rename(\n",
    "        columns={'index': 'interval', 'close': 'count'})\n",
    "    \n",
    "    df_freq['expected'] = df_freq['interval'].apply(\n",
    "        lambda x: t.cdf(x=x.right, df=nu, loc=distr_mean) - t.cdf(x=x.left, df=nu, loc=distr_mean))\n",
    "    \n",
    "    normal_pvalue = normaltest(df_foo).pvalue.round(4)\n",
    "    t_pvalue = chisquare(df_freq['count'], df_freq['expected']).pvalue.round(4)\n",
    "    \n",
    "    axes[0].title.set_text(f'Original Data, Normal pvalue = {normal_pvalue},' + f'T pvalue = {t_pvalue}')\n",
    "    axes[1].title.set_text('Normal Distribution Simulation')\n",
    "    axes[2].title.set_text('T-Test Distribution Simulation')\n",
    "    \n",
    "    fig.tight_layout()\n",
    "    \n",
    "    plt.show()"
   ]
  },
  {
   "cell_type": "code",
   "execution_count": 9,
   "metadata": {},
   "outputs": [
    {
     "data": {
      "image/png": "[encoded data removed]",
      "text/plain": [
       "<Figure size 576x432 with 3 Axes>"
      ]
     },
     "metadata": {
      "needs_background": "light"
     },
     "output_type": "display_data"
    },
    {
     "data": {
      "image/png": "[encoded data removed]",
      "text/plain": [
       "<Figure size 576x432 with 3 Axes>"
      ]
     },
     "metadata": {
      "needs_background": "light"
     },
     "output_type": "display_data"
    },
    {
     "data": {
      "image/png": "[encoded data removed]",
      "text/plain": [
       "<Figure size 576x432 with 3 Axes>"
      ]
     },
     "metadata": {
      "needs_background": "light"
     },
     "output_type": "display_data"
    },
    {
     "data": {
      "text/plain": [
       "[None, None, None]"
      ]
     },
     "execution_count": 9,
     "metadata": {},
     "output_type": "execute_result"
    }
   ],
   "source": [
    "list(map(show_returns_hist, (df_apple_returns, df_google_returns, df_fb_returns)))"
   ]
  },
  {
   "cell_type": "markdown",
   "metadata": {},
   "source": [
    "Получаем, что ни в одном случае нормальным распределением исходное не приближается ни по картинке, ни по p-value. Для 1 и 3 картинки, однако, хорошо подходит t-распределение: и по картинке, и по p-value. Для второй картинки распределение плохо приближается t-распределением. Возможно, это связано с тем, что у гугла две разных акции, GOOGL и GOOG, и из-за этого распределение ведёт себя не так, как остальные два."
   ]
  },
  {
   "cell_type": "code",
   "execution_count": 10,
   "metadata": {},
   "outputs": [
    {
     "name": "stdout",
     "output_type": "stream",
     "text": [
      "pvalue теста стационарности: 0.0\n",
      "pvalue теста стационарности: 0.0\n",
      "pvalue теста стационарности: 3.579357849918425e-18\n"
     ]
    }
   ],
   "source": [
    "for df in (df_apple_returns, df_google_returns, df_fb_returns):\n",
    "    print(f'pvalue теста стационарности: {adfuller(df)[1]}')"
   ]
  },
  {
   "cell_type": "markdown",
   "metadata": {},
   "source": [
    "Значит, на разумном уровне значимости можно заключить, что все три временных ряда не стационарны."
   ]
  },
  {
   "cell_type": "code",
   "execution_count": null,
   "metadata": {},
   "outputs": [],
   "source": []
  }
 ],
 "metadata": {
  "kernelspec": {
   "display_name": "Python 3",
   "language": "python",
   "name": "python3"
  },
  "language_info": {
   "codemirror_mode": {
    "name": "ipython",
    "version": 3
   },
   "file_extension": ".py",
   "mimetype": "text/x-python",
   "name": "python",
   "nbconvert_exporter": "python",
   "pygments_lexer": "ipython3",
   "version": "3.7.4"
  }
 },
 "nbformat": 4,
 "nbformat_minor": 2
}
